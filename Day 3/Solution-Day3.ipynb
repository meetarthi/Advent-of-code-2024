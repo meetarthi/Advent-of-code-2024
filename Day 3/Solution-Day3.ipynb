{
 "cells": [
  {
   "cell_type": "code",
   "execution_count": 15,
   "id": "dc8c1850-2998-41ec-8b5d-c41c8bab1a1e",
   "metadata": {},
   "outputs": [
    {
     "name": "stdout",
     "output_type": "stream",
     "text": [
      "184576302\n"
     ]
    }
   ],
   "source": [
    "#Q1\n",
    "import re\n",
    "\n",
    "with open('./input3.txt','r') as f:\n",
    "    inp = f.read()\n",
    "\n",
    "#regex to find the pattern, and find the numbers inside mul and append to a list of lists'nums'\n",
    "result = re.compile(r'mul\\([0-9]+,[0-9]+\\)') \n",
    "output = result.findall(inp)\n",
    "pattern = re.compile(r'[0-9]+')\n",
    "nums = []\n",
    "for match in output:\n",
    "    Pattern = pattern.findall(match)\n",
    "    nums.append(Pattern)\n",
    "\n",
    "#Getting the product of numbers in each list in nums, and summing altogether\n",
    "Sum = sum(map(lambda x: int(x[0]) * int(x[1]), nums))\n",
    "print(Sum)\n"
   ]
  },
  {
   "cell_type": "code",
   "execution_count": 16,
   "id": "fccaf477-3573-4b36-912f-cbaf4a837076",
   "metadata": {},
   "outputs": [
    {
     "name": "stdout",
     "output_type": "stream",
     "text": [
      "118173507\n"
     ]
    }
   ],
   "source": [
    "#Q2 reddit answer\n",
    "import re\n",
    "\n",
    "R1 = re.compile(r\"mul\\((\\d+),(\\d+)\\)\")\n",
    "R2 = re.compile(r\"don't\\(\\).*?do\\(\\)\", re.DOTALL)\n",
    "\n",
    "def part1(data):\n",
    "    return sum(int(a) * int(b) for a, b in R1.findall(data))\n",
    "\n",
    "def part2(data):\n",
    "    return part1(R2.sub(\"\", data + \"do()\"))\n",
    "\n",
    "data = open('./input3.txt').read()\n",
    "print(part2(data))"
   ]
  },
  {
   "cell_type": "code",
   "execution_count": null,
   "id": "a3af86f1-5a3a-4492-ae27-bc9c3691f731",
   "metadata": {},
   "outputs": [],
   "source": []
  }
 ],
 "metadata": {
  "kernelspec": {
   "display_name": "Python 3 (ipykernel)",
   "language": "python",
   "name": "python3"
  },
  "language_info": {
   "codemirror_mode": {
    "name": "ipython",
    "version": 3
   },
   "file_extension": ".py",
   "mimetype": "text/x-python",
   "name": "python",
   "nbconvert_exporter": "python",
   "pygments_lexer": "ipython3",
   "version": "3.8.18"
  }
 },
 "nbformat": 4,
 "nbformat_minor": 5
}
