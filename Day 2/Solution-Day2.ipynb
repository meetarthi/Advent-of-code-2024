{
 "cells": [
  {
   "cell_type": "code",
   "execution_count": 10,
   "id": "2a3c97c7-52aa-44ca-a933-09130cb57a1d",
   "metadata": {},
   "outputs": [
    {
     "name": "stderr",
     "output_type": "stream",
     "text": [
      "IOPub data rate exceeded.\n",
      "The Jupyter server will temporarily stop sending output\n",
      "to the client in order to avoid crashing it.\n",
      "To change this limit, set the config variable\n",
      "`--ServerApp.iopub_data_rate_limit`.\n",
      "\n",
      "Current values:\n",
      "ServerApp.iopub_data_rate_limit=1000000.0 (bytes/sec)\n",
      "ServerApp.rate_limit_window=3.0 (secs)\n",
      "\n"
     ]
    },
    {
     "data": {
      "text/plain": [
       "472"
      ]
     },
     "execution_count": 10,
     "metadata": {},
     "output_type": "execute_result"
    }
   ],
   "source": [
    "#Q1\n",
    "import pandas as pd\n",
    "List = []\n",
    "with open('./input 2.txt','r') as f:\n",
    "    inp = f.readlines()\n",
    "    for i in inp:\n",
    "        a = i.replace(' ',',').strip()\n",
    "        List.append([a])\n",
    "\n",
    "#list of int values\n",
    "mod_list = [(list(map(int,items[0].split(',')))) for items in List]\n",
    "\n",
    "#list with difference between consecutive numbers\n",
    "vals = []\n",
    "for Lists in mod_list:\n",
    "    if sorted(Lists) == Lists or sorted(Lists, reverse= True) == Lists:\n",
    "        # print(Lists)\n",
    "        # for lists in mod_list:\n",
    "        list_len = len(Lists)\n",
    "        diff = []\n",
    "        for position in range(0,list_len-1):\n",
    "            diff.append(abs(Lists[position] - Lists[position+1]))\n",
    "                # print(abs(lists[position] - lists[position+1]))\n",
    "                # break\n",
    "        # print(diff)\n",
    "        vals.append(diff)\n",
    "        print(vals)\n",
    "\n",
    "#check whether the vals have values between 1 and 3 and, if yes its true else false\n",
    "safe_vals = [1,2,3]\n",
    "output = []\n",
    "for item in vals:\n",
    "    print(item)\n",
    "    result = all(s in safe_vals for s in item)\n",
    "    print(result,vals)\n",
    "    output.append(result)\n",
    "\n",
    "#check true occurence in output, which is \"safe\"\n",
    "result = 0\n",
    "for outputs in output:\n",
    "    if outputs == True:\n",
    "        result += 1\n",
    "# vals\n",
    "result"
   ]
  },
  {
   "cell_type": "code",
   "execution_count": null,
   "id": "b3a33c28-92da-42ff-ace7-2c094d0a82ee",
   "metadata": {},
   "outputs": [],
   "source": [
    "# [1 3 2 4 5]\n",
    "# [-2,1,-2,-1]"
   ]
  },
  {
   "cell_type": "code",
   "execution_count": 15,
   "id": "b10e32f9-3b7a-4bfa-acb2-ef07918dec37",
   "metadata": {},
   "outputs": [
    {
     "name": "stdout",
     "output_type": "stream",
     "text": [
      "520\n"
     ]
    }
   ],
   "source": [
    "#Q2\n",
    "with open('./input 2.txt') as f:\n",
    "    reports = [[int(num) for num in line.split()] for line in f.read().splitlines()]\n",
    "    \n",
    "def is_monotone(inputlist):\n",
    "    return inputlist == sorted(inputlist) or inputlist[::-1] == sorted(inputlist)\n",
    "\n",
    "def is_gradual(inputlist):\n",
    "    return all(1<=abs(i-j)<=3 for i,j in zip(inputlist[:-1],inputlist[1:]))\n",
    "\n",
    "def is_safe(inputlist):\n",
    "    return is_gradual(inputlist) and is_monotone(inputlist)\n",
    "\n",
    "# splicing through number for example\n",
    "#if the list is [1,2,7,3]\n",
    "# if the index is in 2\n",
    "# so the splicing would be [1,2,3] as 7 is not includes so the diff is inside the level, \n",
    "# so if even one time the condition is true, it will be safe\n",
    "answer = sum(any(is_safe(report[:i]+report[i+1:]) for i in range(len(report))) for report in reports)\n",
    "print(answer)"
   ]
  },
  {
   "cell_type": "code",
   "execution_count": null,
   "id": "70b7fc16-c69e-4299-9440-d0d7fedff47c",
   "metadata": {},
   "outputs": [],
   "source": []
  }
 ],
 "metadata": {
  "kernelspec": {
   "display_name": "Python 3 (ipykernel)",
   "language": "python",
   "name": "python3"
  },
  "language_info": {
   "codemirror_mode": {
    "name": "ipython",
    "version": 3
   },
   "file_extension": ".py",
   "mimetype": "text/x-python",
   "name": "python",
   "nbconvert_exporter": "python",
   "pygments_lexer": "ipython3",
   "version": "3.8.18"
  }
 },
 "nbformat": 4,
 "nbformat_minor": 5
}
