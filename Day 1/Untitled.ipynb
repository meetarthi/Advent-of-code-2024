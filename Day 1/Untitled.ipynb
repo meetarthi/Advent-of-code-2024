{
 "cells": [
  {
   "cell_type": "code",
   "execution_count": null,
   "id": "42f861e3-ee7c-41b9-a6ae-c787b2abd9a4",
   "metadata": {},
   "outputs": [],
   "source": [
    "Day 1 :"
   ]
  },
  {
   "cell_type": "code",
   "execution_count": 62,
   "id": "3a28df19-63ef-41fe-a501-f705fb574200",
   "metadata": {},
   "outputs": [
    {
     "name": "stdout",
     "output_type": "stream",
     "text": [
      "1530215\n"
     ]
    }
   ],
   "source": [
    "#Q1\n",
    "# import io\n",
    "#contains list of list with two values in each, but in str\n",
    "List = []\n",
    "with open('Day 1/input.txt','r') as f:\n",
    "    inp = f.readlines()\n",
    "    for i in inp:\n",
    "        a = i.replace('   ',',').strip()\n",
    "        List.append([a])\n",
    "        \n",
    "#modifies list with values in int format\n",
    "mod_list = [list(map(int, items[0].split(','))) for items in List]\n",
    "\n",
    "list1 = []\n",
    "list2 = []\n",
    "\n",
    "\n",
    "for i in mod_list:\n",
    "    list1.append(i[0])       \n",
    "    list2.append(i[1])\n",
    "    \n",
    "sorted_list1 = sorted(list1)\n",
    "sorted_list2 = sorted(list2)\n",
    "\n",
    "diff = 0\n",
    "if not (len(sorted_list1) == len(sorted_list1)):\n",
    "    raise Exception(\"list is not comparable\")\n",
    "else:\n",
    "    for position in range(len(sorted_list1)):\n",
    "        diff += abs(sorted_list1[position] - sorted_list2[position])\n",
    "print(diff) \n"
   ]
  },
  {
   "cell_type": "code",
   "execution_count": 63,
   "id": "cc3cb74d-a350-4bb8-bbd5-9adfb13a6de1",
   "metadata": {},
   "outputs": [
    {
     "name": "stdout",
     "output_type": "stream",
     "text": [
      "26800609\n"
     ]
    }
   ],
   "source": [
    "#Q2\n",
    "List = []\n",
    "with open('Day 1/input.txt','r') as f:\n",
    "    inp = f.readlines()\n",
    "    for i in inp:\n",
    "        a = i.replace('   ',',').strip()\n",
    "        List.append([a])\n",
    "        \n",
    "#modifies list with values in int format\n",
    "mod_list = [list(map(int, items[0].split(','))) for items in List]\n",
    "\n",
    "list1 = []\n",
    "list2 = []\n",
    "\n",
    "\n",
    "for i in mod_list:\n",
    "    list1.append(i[0])       \n",
    "    list2.append(i[1])\n",
    "    \n",
    "sorted_list1 = sorted(list1)\n",
    "sorted_list2 = sorted(list2)\n",
    "\n",
    "reps = []\n",
    "for num in sorted_list1:\n",
    "    reps_of_num = 0\n",
    "    for item in sorted_list2:\n",
    "        if item == num:\n",
    "            reps_of_num += 1\n",
    "    reps.append(reps_of_num)\n",
    "\n",
    "output = sum(reps)\n",
    "\n",
    "#counting how many times each number in sorted1, appears in sorted2.\n",
    "reps = []\n",
    "if not (len(sorted_list1) == len(sorted_list1)):\n",
    "    raise Exception(\"list is not comparable\")\n",
    "else:\n",
    "    for num in sorted_list1:\n",
    "        reps_of_num = 0\n",
    "        for item in sorted_list2:\n",
    "            if item == num:\n",
    "                reps_of_num += 1\n",
    "        reps.append(reps_of_num)\n",
    "\n",
    "#multiplying numbers in sorted1 and reps, position-wise\n",
    "output = 0\n",
    "for position in range(len(sorted_list1)):\n",
    "    output += sorted_list1[position] * reps[position]\n",
    "print(output)    "
   ]
  },
  {
   "cell_type": "code",
   "execution_count": null,
   "id": "582fd997-5f18-4bc1-bc32-7ac78d4fe6e3",
   "metadata": {},
   "outputs": [],
   "source": []
  }
 ],
 "metadata": {
  "kernelspec": {
   "display_name": "my-env",
   "language": "python",
   "name": "heyram"
  },
  "language_info": {
   "codemirror_mode": {
    "name": "ipython",
    "version": 3
   },
   "file_extension": ".py",
   "mimetype": "text/x-python",
   "name": "python",
   "nbconvert_exporter": "python",
   "pygments_lexer": "ipython3",
   "version": "3.8.18"
  }
 },
 "nbformat": 4,
 "nbformat_minor": 5
}
